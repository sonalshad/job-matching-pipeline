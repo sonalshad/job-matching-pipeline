{
 "cells": [
  {
   "cell_type": "code",
   "execution_count": 4,
   "metadata": {},
   "outputs": [],
   "source": [
    "text = text.lower()"
   ]
  },
  {
   "cell_type": "code",
   "execution_count": 6,
   "metadata": {},
   "outputs": [],
   "source": [
    "import regex as re\n",
    "text = re.sub(r'[\\.\\?\\!\\,\\:\\;\\\"]', '', text)"
   ]
  },
  {
   "cell_type": "code",
   "execution_count": 7,
   "metadata": {},
   "outputs": [
    {
     "data": {
      "text/plain": [
       "\"job description summary\\n\\nembark on your ai journey in healthcare\\n\\nare you eager to dive into the world of ai and make a significant impact in healthcare ge healthcare is inviting passionate and aspiring mle interns to join our dynamic ai team seize this opportunity to contribute to groundbreaking work in generative ai and play a part in shaping the future of medical imaging precision medicine and healthcare efficiency\\n\\nyour role{{}}\\n\\nas an mle intern you'll gain hands-on experience by working alongside our skilled science and business teams you'll be instrumental in enhancing the ai-driven aspects of our healthcare solutions learning from and contributing to projects that utilize extensive datasets—including text images and multimodal patient data—to solve real healthcare problems\\n\\njob description\\n\\ninternship highlights{{}}\\n\\n\\n * assist in developing cutting-edge machine learning models particularly focusing on large language models (llms) to streamline clinical operations using diverse data sources like medical images electronic health records patient waveforms and clinical documentation\\n * participate in ensuring the accuracy and effectiveness of algorithms across varied patient demographics involving statistical analysis and error assessment\\n * help build and refine prototypes gaining insights into transforming them into scalable efficient code for real-world applications\\n * stay up-to-date with the latest trends and advancements in ai algorithms and technologies\\n * contribute to the development of adaptable software and data systems which emphasize modular components for use across various teams and projects\\n   \\n   \\n\\nbasic qualifications{{}}\\n\\n\\n * currently pursuing or recently completed a degree in computer science engineering or a related field with a keen interest in machine learning and ai\\n * familiarity with core areas of computer science such as natural language processing computer vision machine learning or deep learning\\n * basic knowledge of programming in languages like python java c/c++ etc\\n * eagerness to learn about deploying applications in production environments and understanding operational best practices\\n * an interest in working with complex real-world medical and patient data\\n * curiosity and a willingness to learn about large-scale data processing ai model training and related techniques\\n   \\n   \\n\\nkickstart your career{{}}\\n\\njoin ge healthcare as an mle intern and be part of a team that's not just talking about the future of healthcare – you'll be actively building it this internship is your gateway to a world of ai innovation and a stellar start to your career in machine learning\\n\\neligibility requirements\\n\\n\\n * legal authorization to work in the us is required ge may agree to sponsor an individual for an employment visa now or in the future if there is a shortage of individuals with particular skills\\n * while gehc does not currently require us employees to be vaccinated against covid-19 some gehc customers have vaccination mandates that may apply to certain gehc employees\\n   \\n   \\n\\nabout team\\n\\nge healthcare teams are based in the us (san ramon seattle) france israel (tel aviv) and india (bangalore) this gives us several core overlap hours for shared meetings\\n\\nmentorship & career growth\\n\\nwe maintain diverse engineering and leadership perspectives and backgrounds across technology and beyond our employees are excited to share their experiences and mentor more junior engineers team members are highly encouraged to set up mentorship relationships with seasoned engineers not only in our team but also across the broader ge healthcare population\\n\\nthe pay rate for this position is $45-60/hr\\n\\ninclusive team culture\\n\\nhere at gehc we embrace our differences we are committed to furthering our culture of inclusion we have many employee-led affinity groups innovative benefit offerings and encourage ongoing learning experiences we expect all employees to live and breathe our behaviors{{}} to act with humility and build trust lead with transparency deliver with focus and drive ownership – always with unyielding integrity\\n\\nabout us\\n\\nat ge healthcare (nasdaq{{}} gehc) we see possibilities through innovation we’re partnering with our customers to fulfill healthcare’s greatest potential through groundbreaking medical technology intelligent devices and care solutions better tools enabling better patient care together we are not only building a healthier future but living our purpose to create a world where healthcare has no limits\\n\\nge healthcare offers a great work environment professional development challenging careers and competitive compensation ge is an equal opportunity employer employment decisions are made without regard to race color religion national or ethnic origin sex sexual orientation gender identity or expression age disability protected veteran status or other characteristics protected by law\\n\\nadditional information\\n\\nge healthcare offers a great work environment professional development challenging careers and competitive compensation ge healthcare is an equal opportunity employer employment decisions are made without regard to race color religion national or ethnic origin sex sexual orientation gender identity or expression age disability protected veteran status or other characteristics protected by law\\n\\nge healthcare will only employ those who are legally authorized to work in the united states for this opening any offer of employment is conditioned upon the successful completion of a drug screen (as applicable)\\n\\nwhile ge healthcare does not currently require us employees to be vaccinated against covid-19 some ge healthcare customers have vaccination mandates that may apply to certain ge healthcare employees\\n\\nrelocation assistance provided{{}} no\""
      ]
     },
     "execution_count": 7,
     "metadata": {},
     "output_type": "execute_result"
    }
   ],
   "source": [
    "text"
   ]
  },
  {
   "cell_type": "code",
   "execution_count": null,
   "metadata": {},
   "outputs": [],
   "source": []
  }
 ],
 "metadata": {
  "kernelspec": {
   "display_name": "base",
   "language": "python",
   "name": "python3"
  },
  "language_info": {
   "codemirror_mode": {
    "name": "ipython",
    "version": 3
   },
   "file_extension": ".py",
   "mimetype": "text/x-python",
   "name": "python",
   "nbconvert_exporter": "python",
   "pygments_lexer": "ipython3",
   "version": "3.11.0"
  }
 },
 "nbformat": 4,
 "nbformat_minor": 2
}
